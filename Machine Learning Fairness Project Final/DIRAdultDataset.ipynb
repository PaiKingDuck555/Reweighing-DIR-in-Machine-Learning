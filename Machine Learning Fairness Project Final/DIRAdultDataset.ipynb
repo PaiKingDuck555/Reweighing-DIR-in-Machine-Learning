{
 "cells": [
  {
   "cell_type": "code",
   "execution_count": 15,
   "metadata": {},
   "outputs": [
    {
     "name": "stderr",
     "output_type": "stream",
     "text": [
      "100%|██████████| 11/11 [00:36<00:00,  3.30s/it]\n"
     ]
    }
   ],
   "source": [
    "\r\n",
    "from matplotlib import pyplot as plt\r\n",
    "\r\n",
    "import sys\r\n",
    "sys.path.append(\"../\")\r\n",
    "import warnings\r\n",
    "\r\n",
    "import numpy as np\r\n",
    "from tqdm import tqdm\r\n",
    "\r\n",
    "from sklearn.linear_model import LogisticRegression\r\n",
    "from sklearn.svm import SVC as SVM\r\n",
    "from sklearn.preprocessing import MinMaxScaler\r\n",
    "\r\n",
    "from aif360.algorithms.preprocessing import DisparateImpactRemover\r\n",
    "from aif360.datasets import AdultDataset\r\n",
    "from aif360.metrics import BinaryLabelDatasetMetric\r\n",
    "from PIL import Image\r\n",
    "protected = 'sex'\r\n",
    "ad = AdultDataset(protected_attribute_names=[protected],\r\n",
    "    privileged_classes=[['Male']], categorical_features=[],\r\n",
    "    features_to_keep=['age', 'education-num', 'capital-gain', 'capital-loss', 'hours-per-week'])\r\n",
    "\r\n",
    "scaler = MinMaxScaler(copy=False)\r\n",
    "test, train = ad.split([16281])\r\n",
    "train.features = scaler.fit_transform(train.features)\r\n",
    "test.features = scaler.fit_transform(test.features)\r\n",
    "\r\n",
    "index = train.feature_names.index(protected)\r\n",
    "\r\n",
    "DIs = []\r\n",
    "for level in tqdm(np.linspace(0., 1., 11)):\r\n",
    "    di = DisparateImpactRemover(repair_level=level)\r\n",
    "    train_repd = di.fit_transform(train)\r\n",
    "    test_repd = di.fit_transform(test)\r\n",
    "    \r\n",
    "    X_tr = np.delete(train_repd.features, index, axis=1)\r\n",
    "    X_te = np.delete(test_repd.features, index, axis=1)\r\n",
    "    y_tr = train_repd.labels.ravel()\r\n",
    "    \r\n",
    "    lmod = LogisticRegression(class_weight='balanced', solver='liblinear')\r\n",
    "    lmod.fit(X_tr, y_tr)\r\n",
    "    \r\n",
    "    test_repd_pred = test_repd.copy()\r\n",
    "    test_repd_pred.labels = lmod.predict(X_te)\r\n",
    "\r\n",
    "    p = [{protected: 1}]\r\n",
    "    u = [{protected: 0}]\r\n",
    "    cm = BinaryLabelDatasetMetric(test_repd_pred, privileged_groups=p, unprivileged_groups=u)\r\n",
    "    DIs.append(cm.disparate_impact())\r\n",
    "plt.plot(np.linspace(0, 1, 11), DIs, marker='o')\r\n",
    "plt.plot([0, 1], [1, 1], 'g')\r\n",
    "plt.plot([0, 1], [0.8, 0.8], 'r')\r\n",
    "plt.ylim([0.4, 1.2])\r\n",
    "plt.ylabel('Disparate Impact (DI)')\r\n",
    "plt.xlabel('repair level')\r\n",
    "plt.savefig(\"mygraph.png\")\r\n",
    "img = Image.open('mygraph.png')\r\n",
    "img.show()\r\n"
   ]
  }
 ],
 "metadata": {
  "kernelspec": {
   "display_name": "Python 3.9.5 64-bit ('Python39')",
   "name": "python395jvsc74a57bd0d805922e1bc37e260f6daf8d1050cc8d27319edd29b3dfbcf41771181635e403"
  },
  "language_info": {
   "codemirror_mode": {
    "name": "ipython",
    "version": 3
   },
   "file_extension": ".py",
   "mimetype": "text/x-python",
   "name": "python",
   "nbconvert_exporter": "python",
   "pygments_lexer": "ipython3",
   "version": "3.9.5"
  },
  "orig_nbformat": 2
 },
 "nbformat": 4,
 "nbformat_minor": 2
}