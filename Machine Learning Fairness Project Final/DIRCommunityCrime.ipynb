{
 "cells": [
  {
   "cell_type": "code",
   "execution_count": 28,
   "metadata": {},
   "outputs": [
    {
     "name": "stderr",
     "output_type": "stream",
     "text": [
      "100%|██████████| 11/11 [00:13<00:00,  1.19s/it]\n"
     ]
    },
    {
     "name": "stdout",
     "output_type": "stream",
     "text": [
      "[5.3076923076923075, 5.2405063291139244, 4.939024390243902, 4.395348837209302, 4.199999999999999, 3.9255319148936167, 4.153846153846153, 3.9255319148936167, 3.9130434782608696, 3.4105263157894736, 3.1818181818181817]\n"
     ]
    }
   ],
   "source": [
    "import numpy as np\r\n",
    "import pandas as pd\r\n",
    "from aif360.metrics import BinaryLabelDatasetMetric \r\n",
    "from aif360.datasets import BinaryLabelDataset\r\n",
    "from aif360.datasets import CompasDataset\r\n",
    "from aif360.algorithms.preprocessing import DisparateImpactRemover\r\n",
    "from aif360.algorithms.preprocessing.optim_preproc_helpers.data_preproc_functions import load_preproc_data_compas\r\n",
    "from sklearn.preprocessing import MinMaxScaler\r\n",
    "from sklearn.linear_model import LogisticRegression\r\n",
    "from sklearn.metrics import f1_score \r\n",
    "import matplotlib\r\n",
    "from PIL import Image\r\n",
    "from matplotlib import pyplot as plt\r\n",
    "from tqdm import tqdm \r\n",
    "\r\n",
    "df = pd.read_csv('crimerate.csv', header=None, names=[str(i) for i in range(101)])\r\n",
    "# # binarize protected attribute, african american community\r\n",
    "df.iloc[:,2] = (df.iloc[:,2] <= 0.5)\r\n",
    "# # binarize label. high value (high crimerate) == bad\r\n",
    "df.iloc[:,100] = (df.iloc[:,100] <= 0.5)\r\n",
    "\r\n",
    "protected = '2'\r\n",
    "\r\n",
    "crime_dataset = BinaryLabelDataset(\r\n",
    "    df=df, \r\n",
    "    favorable_label=0,\r\n",
    "    unfavorable_label=1,\r\n",
    "    label_names=['100'], # the last column \"label\" \"crimerate\"\r\n",
    "    protected_attribute_names=['2'], # [\"race_pct_african_american\"] \r\n",
    ")\r\n",
    "underprivileged = [{'2': 0}]\r\n",
    "privileged = [{'2': 1}]\r\n",
    "scaler = MinMaxScaler(copy=False) \r\n",
    "test, train = crime_dataset.split([500])\r\n",
    "#Splits the Commnity Crime dataset by rows \r\n",
    "train.features = scaler.fit_transform(train.features)\r\n",
    "test.features = scaler.fit_transform(test.features)\r\n",
    "\r\n",
    "index = train.feature_names.index(protected) \r\n",
    "DIs = []\r\n",
    "for level in tqdm(np.linspace(0., 1., 11)):\r\n",
    "    di = DisparateImpactRemover(repair_level=level)\r\n",
    "    train_repd = di.fit_transform(train)\r\n",
    "    test_repd = di.fit_transform(test)\r\n",
    "\r\n",
    "    X_tr = np.delete(train_repd.features, index, axis=1)\r\n",
    "    X_te = np.delete(test_repd.features, index, axis=1)\r\n",
    "    y_tr = train_repd.labels.ravel()\r\n",
    "\r\n",
    "    lmod = LogisticRegression(class_weight='balanced', solver='liblinear')\r\n",
    "    lmod.fit(X_tr, y_tr)\r\n",
    "\r\n",
    "    test_repd_pred = test_repd.copy()\r\n",
    "    test_repd_pred.labels = lmod.predict(X_te)\r\n",
    "\r\n",
    "    p = [{protected: 1}]\r\n",
    "    u = [{protected: 0}]\r\n",
    "    cm = BinaryLabelDatasetMetric(test_repd_pred, privileged_groups=p, unprivileged_groups=u)\r\n",
    "    DIs.append(cm.disparate_impact())\r\n",
    "print(DIs)\r\n",
    "\r\n",
    "\r\n",
    "\r\n",
    "\r\n",
    "\r\n",
    "\r\n",
    "\r\n",
    "\r\n",
    "\r\n",
    "#     crime_dataset_train = crime_dataset.split([0.7], shuffle=True)\r\n",
    "#     crime_dataset_test = crime_dataset.split([0.5], shuffle=True) \r\n",
    "\r\n",
    "# for level in tqdm(np.linspace(0., 1., 11)):\r\n",
    "#     di = DisparateImpactRemover(repair_level=level) \r\n",
    "#     new_crime_dataset = di.fit_transform(crime_dataset)\r\n",
    "   \r\n",
    "\r\n"
   ]
  }
 ],
 "metadata": {
  "kernelspec": {
   "display_name": "Python 3.9.5 64-bit ('Python39')",
   "name": "python395jvsc74a57bd0d805922e1bc37e260f6daf8d1050cc8d27319edd29b3dfbcf41771181635e403"
  },
  "language_info": {
   "codemirror_mode": {
    "name": "ipython",
    "version": 3
   },
   "file_extension": ".py",
   "mimetype": "text/x-python",
   "name": "python",
   "nbconvert_exporter": "python",
   "pygments_lexer": "ipython3",
   "version": "3.9.5"
  },
  "orig_nbformat": 2
 },
 "nbformat": 4,
 "nbformat_minor": 2
}