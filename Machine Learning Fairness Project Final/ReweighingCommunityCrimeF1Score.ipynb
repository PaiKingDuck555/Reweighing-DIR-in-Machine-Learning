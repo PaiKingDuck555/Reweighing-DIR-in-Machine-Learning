{
 "cells": [
  {
   "cell_type": "code",
   "execution_count": 2,
   "metadata": {},
   "outputs": [
    {
     "name": "stdout",
     "output_type": "stream",
     "text": [
      "0.9446327683615818\n"
     ]
    }
   ],
   "source": [
    "import numpy as np\r\n",
    "import pandas as pd\r\n",
    "from aif360.datasets import BinaryLabelDataset\r\n",
    "from aif360.algorithms.preprocessing import Reweighing\r\n",
    "from sklearn.preprocessing import StandardScaler\r\n",
    "from sklearn.linear_model import LogisticRegression\r\n",
    "from sklearn.metrics import f1_score\r\n",
    "\r\n",
    "\r\n",
    "\r\n",
    "def main():\r\n",
    "\r\n",
    "    df = pd.read_csv('crimerate.csv', header=None, names=[str(i) for i in range(101)])\r\n",
    "    # # binarize protected attribute, african american community\r\n",
    "    df.iloc[:,2] = (df.iloc[:,2] <= 0.5)\r\n",
    "    # # binarize label. high value (high crimerate) == bad\r\n",
    "    df.iloc[:,100] = (df.iloc[:,100] <= 0.5)\r\n",
    "\r\n",
    "    crime_dataset = BinaryLabelDataset(\r\n",
    "        df=df, \r\n",
    "        favorable_label=0,\r\n",
    "        unfavorable_label=1,\r\n",
    "        label_names=['100'], # the last column \"label\" \"crimerate\"\r\n",
    "        protected_attribute_names=['2'], # [\"race_pct_african_american\"] \r\n",
    "    )\r\n",
    "    underprivileged = [{'2': 0}]\r\n",
    "    privileged = [{'2': 1}]\r\n",
    "    \r\n",
    "    crime_dataset_train = crime_dataset.split([0.7], shuffle=True)\r\n",
    "    crime_dataset_test = crime_dataset.split([0.5], shuffle=True)\r\n",
    "\r\n",
    "\r\n",
    "    var = Reweighing(underprivileged, privileged)\r\n",
    "    var.fit(crime_dataset)\r\n",
    "    new_dataset = var.transform(crime_dataset) # This is a BinaryLabelDataset\r\n",
    "    scale_orig = StandardScaler()\r\n",
    "    X_train = scale_orig.fit_transform(new_dataset.features)\r\n",
    "    Y_train = new_dataset.labels.ravel()\r\n",
    "    \r\n",
    "    lmod = LogisticRegression(solver='lbfgs', max_iter=1000)\r\n",
    "    lmod.fit(X_train, Y_train, \r\n",
    "        sample_weight=new_dataset.instance_weights)\r\n",
    "    Y_pred = lmod.predict(X_train) \r\n",
    "    Y_true = crime_dataset.labels.ravel()\r\n",
    "    F1_score = f1_score(Y_pred, Y_true)\r\n",
    "    print(F1_score)\r\n",
    " \r\n",
    "\r\n",
    "## do whatever you want now with the data! Compute some metrics!\r\n",
    "       \r\n",
    "main()"
   ]
  }
 ],
 "metadata": {
  "kernelspec": {
   "display_name": "Python 3.9.5 64-bit ('Python39')",
   "name": "python395jvsc74a57bd0d805922e1bc37e260f6daf8d1050cc8d27319edd29b3dfbcf41771181635e403"
  },
  "language_info": {
   "codemirror_mode": {
    "name": "ipython",
    "version": 3
   },
   "file_extension": ".py",
   "mimetype": "text/x-python",
   "name": "python",
   "nbconvert_exporter": "python",
   "pygments_lexer": "ipython3",
   "version": "3.9.5"
  },
  "orig_nbformat": 2
 },
 "nbformat": 4,
 "nbformat_minor": 2
}